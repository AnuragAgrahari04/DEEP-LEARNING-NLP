{
 "cells": [
  {
   "cell_type": "code",
   "id": "initial_id",
   "metadata": {
    "collapsed": true,
    "ExecuteTime": {
     "end_time": "2025-10-26T15:22:24.235181Z",
     "start_time": "2025-10-26T15:22:24.228660Z"
    }
   },
   "source": [
    "import tensorflow as tf\n",
    "from tensorflow.keras.models import load_model\n",
    "import pandas as pd\n",
    "import numpy as np\n",
    "import pickle\n",
    "from sklearn.preprocessing import StandardScaler,LabelEncoder"
   ],
   "outputs": [],
   "execution_count": 70
  },
  {
   "metadata": {
    "ExecuteTime": {
     "end_time": "2025-10-26T15:23:18.085647Z",
     "start_time": "2025-10-26T15:23:18.020393Z"
    }
   },
   "cell_type": "code",
   "source": [
    "# Load the trained model, scaler pickle, onehot\n",
    "\n",
    "model = load_model('model.h5')\n",
    "\n",
    "# load the encoder and scaler\n",
    "\n",
    "with open('onehot_encoder_geo.pkl', 'rb') as file:\n",
    "    onehot_encoder_geo = pickle.load(file)\n",
    "\n",
    "with open('label_encoder_gender.pkl', 'rb') as file:\n",
    "    label_encoder_gender = pickle.load(file)\n",
    "\n",
    "with open('scaler.pkl', 'rb') as file:\n",
    "    scaler = pickle.load(file)"
   ],
   "id": "b81535953c50ac86",
   "outputs": [
    {
     "name": "stderr",
     "output_type": "stream",
     "text": [
      "WARNING:absl:Compiled the loaded model, but the compiled metrics have yet to be built. `model.compile_metrics` will be empty until you train or evaluate the model.\n"
     ]
    }
   ],
   "execution_count": 71
  },
  {
   "metadata": {
    "ExecuteTime": {
     "end_time": "2025-10-26T15:02:07.302870Z",
     "start_time": "2025-10-26T15:02:07.284709Z"
    }
   },
   "cell_type": "code",
   "source": [
    "input_data = {\n",
    "    'CreditScore' : 600,\n",
    "    'Geography' : 'France',\n",
    "    'Gender' : 'Male',\n",
    "    'Age' : 40,\n",
    "    'Tenure' : 3,\n",
    "    'Balance' : 60000,\n",
    "    'NumberOfProducts' : 2,\n",
    "    'HasCrCard'  : 1,\n",
    "    'IsActiveMember' : 1,\n",
    "    'EstimatedSalary' : 50000\n",
    "}"
   ],
   "id": "3f7c62f08cd11579",
   "outputs": [],
   "execution_count": 53
  },
  {
   "metadata": {
    "ExecuteTime": {
     "end_time": "2025-10-26T15:23:49.333362Z",
     "start_time": "2025-10-26T15:23:49.317284Z"
    }
   },
   "cell_type": "code",
   "source": [
    "input_df = pd.DataFrame([input_data])\n",
    "input_df"
   ],
   "id": "ebb75589781dde10",
   "outputs": [
    {
     "data": {
      "text/plain": [
       "   CreditScore Geography Gender  Age  Tenure  Balance  NumberOfProducts  \\\n",
       "0          600    France   Male   40       3    60000                 2   \n",
       "\n",
       "   HasCrCard  IsActiveMember  EstimatedSalary  \n",
       "0          1               1            50000  "
      ],
      "text/html": [
       "<div>\n",
       "<style scoped>\n",
       "    .dataframe tbody tr th:only-of-type {\n",
       "        vertical-align: middle;\n",
       "    }\n",
       "\n",
       "    .dataframe tbody tr th {\n",
       "        vertical-align: top;\n",
       "    }\n",
       "\n",
       "    .dataframe thead th {\n",
       "        text-align: right;\n",
       "    }\n",
       "</style>\n",
       "<table border=\"1\" class=\"dataframe\">\n",
       "  <thead>\n",
       "    <tr style=\"text-align: right;\">\n",
       "      <th></th>\n",
       "      <th>CreditScore</th>\n",
       "      <th>Geography</th>\n",
       "      <th>Gender</th>\n",
       "      <th>Age</th>\n",
       "      <th>Tenure</th>\n",
       "      <th>Balance</th>\n",
       "      <th>NumberOfProducts</th>\n",
       "      <th>HasCrCard</th>\n",
       "      <th>IsActiveMember</th>\n",
       "      <th>EstimatedSalary</th>\n",
       "    </tr>\n",
       "  </thead>\n",
       "  <tbody>\n",
       "    <tr>\n",
       "      <th>0</th>\n",
       "      <td>600</td>\n",
       "      <td>France</td>\n",
       "      <td>Male</td>\n",
       "      <td>40</td>\n",
       "      <td>3</td>\n",
       "      <td>60000</td>\n",
       "      <td>2</td>\n",
       "      <td>1</td>\n",
       "      <td>1</td>\n",
       "      <td>50000</td>\n",
       "    </tr>\n",
       "  </tbody>\n",
       "</table>\n",
       "</div>"
      ]
     },
     "execution_count": 72,
     "metadata": {},
     "output_type": "execute_result"
    }
   ],
   "execution_count": 72
  },
  {
   "metadata": {
    "ExecuteTime": {
     "end_time": "2025-10-26T15:26:07.540400Z",
     "start_time": "2025-10-26T15:26:07.525553Z"
    }
   },
   "cell_type": "code",
   "source": [
    "# Encode 'Gender'\n",
    "input_df['Gender'] = label_encoder_gender.transform(input_df['Gender'])\n",
    "\n",
    "# One-hot encode 'Geography'\n",
    "geo_encoded_array = onehot_encoder_geo.transform(input_df[['Geography']])"
   ],
   "id": "c3e44036cc222d43",
   "outputs": [],
   "execution_count": 73
  },
  {
   "metadata": {
    "ExecuteTime": {
     "end_time": "2025-10-26T15:26:41.733420Z",
     "start_time": "2025-10-26T15:26:41.721104Z"
    }
   },
   "cell_type": "code",
   "source": [
    "# Convert sparse matrix to a DataFrame with correct column names\n",
    "geo_encoded_df = pd.DataFrame(\n",
    "    geo_encoded_array.toarray(),\n",
    "    columns=onehot_encoder_geo.get_feature_names_out(['Geography'])\n",
    ")"
   ],
   "id": "6cc1cac4c96d039c",
   "outputs": [],
   "execution_count": 74
  },
  {
   "metadata": {
    "ExecuteTime": {
     "end_time": "2025-10-26T15:27:09.168587Z",
     "start_time": "2025-10-26T15:27:09.155421Z"
    }
   },
   "cell_type": "code",
   "source": [
    "# Concatenate the new one-hot columns (resetting index to align them)\n",
    "input_processed_df = pd.concat([input_df.reset_index(drop=True), geo_encoded_df], axis=1)"
   ],
   "id": "7196ec4534969b5",
   "outputs": [],
   "execution_count": 75
  },
  {
   "metadata": {
    "ExecuteTime": {
     "end_time": "2025-10-26T15:27:25.824449Z",
     "start_time": "2025-10-26T15:27:25.813468Z"
    }
   },
   "cell_type": "code",
   "source": [
    "# Drop the original string 'Geography' column\n",
    "input_processed_df = input_processed_df.drop('Geography', axis=1)"
   ],
   "id": "dfa9a39b81b83cb3",
   "outputs": [],
   "execution_count": 76
  },
  {
   "metadata": {
    "ExecuteTime": {
     "end_time": "2025-10-26T15:27:40.786338Z",
     "start_time": "2025-10-26T15:27:40.768513Z"
    }
   },
   "cell_type": "code",
   "source": "input_processed_df",
   "id": "e62345983160de92",
   "outputs": [
    {
     "data": {
      "text/plain": [
       "   CreditScore  Gender  Age  Tenure  Balance  NumberOfProducts  HasCrCard  \\\n",
       "0          600       1   40       3    60000                 2          1   \n",
       "\n",
       "   IsActiveMember  EstimatedSalary  Geography_France  Geography_Germany  \\\n",
       "0               1            50000               1.0                0.0   \n",
       "\n",
       "   Geography_Spain  \n",
       "0              0.0  "
      ],
      "text/html": [
       "<div>\n",
       "<style scoped>\n",
       "    .dataframe tbody tr th:only-of-type {\n",
       "        vertical-align: middle;\n",
       "    }\n",
       "\n",
       "    .dataframe tbody tr th {\n",
       "        vertical-align: top;\n",
       "    }\n",
       "\n",
       "    .dataframe thead th {\n",
       "        text-align: right;\n",
       "    }\n",
       "</style>\n",
       "<table border=\"1\" class=\"dataframe\">\n",
       "  <thead>\n",
       "    <tr style=\"text-align: right;\">\n",
       "      <th></th>\n",
       "      <th>CreditScore</th>\n",
       "      <th>Gender</th>\n",
       "      <th>Age</th>\n",
       "      <th>Tenure</th>\n",
       "      <th>Balance</th>\n",
       "      <th>NumberOfProducts</th>\n",
       "      <th>HasCrCard</th>\n",
       "      <th>IsActiveMember</th>\n",
       "      <th>EstimatedSalary</th>\n",
       "      <th>Geography_France</th>\n",
       "      <th>Geography_Germany</th>\n",
       "      <th>Geography_Spain</th>\n",
       "    </tr>\n",
       "  </thead>\n",
       "  <tbody>\n",
       "    <tr>\n",
       "      <th>0</th>\n",
       "      <td>600</td>\n",
       "      <td>1</td>\n",
       "      <td>40</td>\n",
       "      <td>3</td>\n",
       "      <td>60000</td>\n",
       "      <td>2</td>\n",
       "      <td>1</td>\n",
       "      <td>1</td>\n",
       "      <td>50000</td>\n",
       "      <td>1.0</td>\n",
       "      <td>0.0</td>\n",
       "      <td>0.0</td>\n",
       "    </tr>\n",
       "  </tbody>\n",
       "</table>\n",
       "</div>"
      ]
     },
     "execution_count": 77,
     "metadata": {},
     "output_type": "execute_result"
    }
   ],
   "execution_count": 77
  },
  {
   "metadata": {
    "ExecuteTime": {
     "end_time": "2025-10-27T06:06:15.071869Z",
     "start_time": "2025-10-27T06:06:15.054325Z"
    }
   },
   "cell_type": "code",
   "source": [
    "try:\n",
    "    # 1. FIX: Rename the column\n",
    "    # This changes 'NumberOfProducts' to 'NumOfProducts'\n",
    "    if 'NumberOfProducts' in input_processed_df.columns:\n",
    "        input_processed_df.rename(columns={'NumberOfProducts': 'NumOfProducts'}, inplace=True)\n",
    "        print(\"Fixed column name: 'NumberOfProducts' -> 'NumOfProducts'\")\n",
    "    else:\n",
    "        print(\"Column 'NumOfProducts' already correct.\")\n",
    "\n",
    "    # 2. BEST PRACTICE: Get the exact feature order the scaler expects\n",
    "    expected_features = scaler.feature_names_in_\n",
    "\n",
    "    # 3. Re-order your DataFrame to match the scaler's training data\n",
    "    final_input_df = input_processed_df[expected_features]\n",
    "\n",
    "    # 4. Scale the correctly named and ordered data\n",
    "    input_scaled = scaler.transform(final_input_df)\n",
    "\n",
    "    print(\"\\n--- Scaling Successful ---\")\n",
    "    print(input_scaled)\n",
    "\n",
    "except KeyError as e:\n",
    "    print(f\"\\n--- ERROR ---\")\n",
    "    print(f\"A column is still missing: {e}\")\n",
    "    print(\"Expected columns:\", list(scaler.feature_names_in_))\n",
    "    print(\"Your columns:\", list(input_processed_df.columns))\n",
    "except Exception as e:\n",
    "    print(f\"An error occurred: {e}\")"
   ],
   "id": "5da348dd92405210",
   "outputs": [
    {
     "name": "stdout",
     "output_type": "stream",
     "text": [
      "Fixed column name: 'NumberOfProducts' -> 'NumOfProducts'\n",
      "\n",
      "--- Scaling Successful ---\n",
      "[[-0.53598516  0.91324755  0.10479359 -0.69539349 -0.25781119  0.80843615\n",
      "   0.64920267  0.97481699 -0.87683221  1.00150113 -0.57946723 -0.57638802]]\n"
     ]
    }
   ],
   "execution_count": 79
  },
  {
   "metadata": {
    "ExecuteTime": {
     "end_time": "2025-10-27T06:07:28.583971Z",
     "start_time": "2025-10-27T06:07:28.390175Z"
    }
   },
   "cell_type": "code",
   "source": [
    "# predict churn\n",
    "\n",
    "prediction = model.predict(input_scaled)\n",
    "prediction"
   ],
   "id": "d1ef43d53fbbb809",
   "outputs": [
    {
     "name": "stdout",
     "output_type": "stream",
     "text": [
      "\u001B[1m1/1\u001B[0m \u001B[32m━━━━━━━━━━━━━━━━━━━━\u001B[0m\u001B[37m\u001B[0m \u001B[1m0s\u001B[0m 99ms/step\n"
     ]
    },
    {
     "data": {
      "text/plain": [
       "array([[0.03601537]], dtype=float32)"
      ]
     },
     "execution_count": 80,
     "metadata": {},
     "output_type": "execute_result"
    }
   ],
   "execution_count": 80
  },
  {
   "metadata": {
    "ExecuteTime": {
     "end_time": "2025-10-27T06:08:57.381793Z",
     "start_time": "2025-10-27T06:08:57.374930Z"
    }
   },
   "cell_type": "code",
   "source": [
    "if prediction > 0.5:\n",
    "    print(\"The customer is likely to churn.\")\n",
    "else:\n",
    "    print(\"The customer is unlikely to churn.\")"
   ],
   "id": "176444fb3dd1cd7b",
   "outputs": [
    {
     "name": "stdout",
     "output_type": "stream",
     "text": [
      "The customer is unlikely to churn.\n"
     ]
    }
   ],
   "execution_count": 83
  },
  {
   "metadata": {},
   "cell_type": "code",
   "outputs": [],
   "execution_count": null,
   "source": "",
   "id": "7857b2b1575c2717"
  }
 ],
 "metadata": {
  "kernelspec": {
   "display_name": "Python 3",
   "language": "python",
   "name": "python3"
  },
  "language_info": {
   "codemirror_mode": {
    "name": "ipython",
    "version": 2
   },
   "file_extension": ".py",
   "mimetype": "text/x-python",
   "name": "python",
   "nbconvert_exporter": "python",
   "pygments_lexer": "ipython2",
   "version": "2.7.6"
  }
 },
 "nbformat": 4,
 "nbformat_minor": 5
}
