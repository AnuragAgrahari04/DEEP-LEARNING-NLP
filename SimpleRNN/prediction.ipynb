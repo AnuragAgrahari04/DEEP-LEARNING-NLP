{
 "cells": [
  {
   "cell_type": "code",
   "id": "initial_id",
   "metadata": {
    "collapsed": true,
    "ExecuteTime": {
     "end_time": "2025-10-28T09:38:16.420068Z",
     "start_time": "2025-10-28T09:38:12.442247Z"
    }
   },
   "source": [
    "import numpy as np\n",
    "import tensorflow as tf\n",
    "from tensorflow.keras.datasets import imdb\n",
    "from tensorflow.keras.preprocessing import sequence\n",
    "from tensorflow.keras.models import load_model"
   ],
   "outputs": [],
   "execution_count": 1
  },
  {
   "metadata": {
    "ExecuteTime": {
     "end_time": "2025-10-28T09:39:48.331765Z",
     "start_time": "2025-10-28T09:39:48.259252Z"
    }
   },
   "cell_type": "code",
   "source": [
    "# load the IMDB dataset word index\n",
    "\n",
    "word_index = imdb.get_word_index()\n",
    "reverse_word_index = {value: key for (key, value) in word_index.items()}"
   ],
   "id": "2e8f0d1ee7345390",
   "outputs": [],
   "execution_count": 2
  },
  {
   "metadata": {
    "ExecuteTime": {
     "end_time": "2025-10-28T09:40:28.901276Z",
     "start_time": "2025-10-28T09:40:28.777679Z"
    }
   },
   "cell_type": "code",
   "source": [
    "# load the pre-trained model with ReLU activation\n",
    "\n",
    "model = load_model('simplernn_imdb_model.h5')"
   ],
   "id": "63f2a8743acdf22c",
   "outputs": [
    {
     "name": "stderr",
     "output_type": "stream",
     "text": [
      "WARNING:absl:Compiled the loaded model, but the compiled metrics have yet to be built. `model.compile_metrics` will be empty until you train or evaluate the model.\n"
     ]
    }
   ],
   "execution_count": 3
  },
  {
   "metadata": {
    "ExecuteTime": {
     "end_time": "2025-10-28T09:40:40.342874Z",
     "start_time": "2025-10-28T09:40:40.299914Z"
    }
   },
   "cell_type": "code",
   "source": "model.summary()",
   "id": "dc7a8779eaa4043e",
   "outputs": [
    {
     "data": {
      "text/plain": [
       "\u001B[1mModel: \"sequential_2\"\u001B[0m\n"
      ],
      "text/html": [
       "<pre style=\"white-space:pre;overflow-x:auto;line-height:normal;font-family:Menlo,'DejaVu Sans Mono',consolas,'Courier New',monospace\"><span style=\"font-weight: bold\">Model: \"sequential_2\"</span>\n",
       "</pre>\n"
      ]
     },
     "metadata": {},
     "output_type": "display_data",
     "jetTransient": {
      "display_id": null
     }
    },
    {
     "data": {
      "text/plain": [
       "┏━━━━━━━━━━━━━━━━━━━━━━━━━━━━━━━━━┳━━━━━━━━━━━━━━━━━━━━━━━━┳━━━━━━━━━━━━━━━┓\n",
       "┃\u001B[1m \u001B[0m\u001B[1mLayer (type)                   \u001B[0m\u001B[1m \u001B[0m┃\u001B[1m \u001B[0m\u001B[1mOutput Shape          \u001B[0m\u001B[1m \u001B[0m┃\u001B[1m \u001B[0m\u001B[1m      Param #\u001B[0m\u001B[1m \u001B[0m┃\n",
       "┡━━━━━━━━━━━━━━━━━━━━━━━━━━━━━━━━━╇━━━━━━━━━━━━━━━━━━━━━━━━╇━━━━━━━━━━━━━━━┩\n",
       "│ embedding_2 (\u001B[38;5;33mEmbedding\u001B[0m)         │ (\u001B[38;5;34m32\u001B[0m, \u001B[38;5;34m500\u001B[0m, \u001B[38;5;34m128\u001B[0m)         │     \u001B[38;5;34m1,280,000\u001B[0m │\n",
       "├─────────────────────────────────┼────────────────────────┼───────────────┤\n",
       "│ simple_rnn_2 (\u001B[38;5;33mSimpleRNN\u001B[0m)        │ (\u001B[38;5;34m32\u001B[0m, \u001B[38;5;34m128\u001B[0m)              │        \u001B[38;5;34m32,896\u001B[0m │\n",
       "├─────────────────────────────────┼────────────────────────┼───────────────┤\n",
       "│ dense_2 (\u001B[38;5;33mDense\u001B[0m)                 │ (\u001B[38;5;34m32\u001B[0m, \u001B[38;5;34m1\u001B[0m)                │           \u001B[38;5;34m129\u001B[0m │\n",
       "└─────────────────────────────────┴────────────────────────┴───────────────┘\n"
      ],
      "text/html": [
       "<pre style=\"white-space:pre;overflow-x:auto;line-height:normal;font-family:Menlo,'DejaVu Sans Mono',consolas,'Courier New',monospace\">┏━━━━━━━━━━━━━━━━━━━━━━━━━━━━━━━━━┳━━━━━━━━━━━━━━━━━━━━━━━━┳━━━━━━━━━━━━━━━┓\n",
       "┃<span style=\"font-weight: bold\"> Layer (type)                    </span>┃<span style=\"font-weight: bold\"> Output Shape           </span>┃<span style=\"font-weight: bold\">       Param # </span>┃\n",
       "┡━━━━━━━━━━━━━━━━━━━━━━━━━━━━━━━━━╇━━━━━━━━━━━━━━━━━━━━━━━━╇━━━━━━━━━━━━━━━┩\n",
       "│ embedding_2 (<span style=\"color: #0087ff; text-decoration-color: #0087ff\">Embedding</span>)         │ (<span style=\"color: #00af00; text-decoration-color: #00af00\">32</span>, <span style=\"color: #00af00; text-decoration-color: #00af00\">500</span>, <span style=\"color: #00af00; text-decoration-color: #00af00\">128</span>)         │     <span style=\"color: #00af00; text-decoration-color: #00af00\">1,280,000</span> │\n",
       "├─────────────────────────────────┼────────────────────────┼───────────────┤\n",
       "│ simple_rnn_2 (<span style=\"color: #0087ff; text-decoration-color: #0087ff\">SimpleRNN</span>)        │ (<span style=\"color: #00af00; text-decoration-color: #00af00\">32</span>, <span style=\"color: #00af00; text-decoration-color: #00af00\">128</span>)              │        <span style=\"color: #00af00; text-decoration-color: #00af00\">32,896</span> │\n",
       "├─────────────────────────────────┼────────────────────────┼───────────────┤\n",
       "│ dense_2 (<span style=\"color: #0087ff; text-decoration-color: #0087ff\">Dense</span>)                 │ (<span style=\"color: #00af00; text-decoration-color: #00af00\">32</span>, <span style=\"color: #00af00; text-decoration-color: #00af00\">1</span>)                │           <span style=\"color: #00af00; text-decoration-color: #00af00\">129</span> │\n",
       "└─────────────────────────────────┴────────────────────────┴───────────────┘\n",
       "</pre>\n"
      ]
     },
     "metadata": {},
     "output_type": "display_data",
     "jetTransient": {
      "display_id": null
     }
    },
    {
     "data": {
      "text/plain": [
       "\u001B[1m Total params: \u001B[0m\u001B[38;5;34m1,313,027\u001B[0m (5.01 MB)\n"
      ],
      "text/html": [
       "<pre style=\"white-space:pre;overflow-x:auto;line-height:normal;font-family:Menlo,'DejaVu Sans Mono',consolas,'Courier New',monospace\"><span style=\"font-weight: bold\"> Total params: </span><span style=\"color: #00af00; text-decoration-color: #00af00\">1,313,027</span> (5.01 MB)\n",
       "</pre>\n"
      ]
     },
     "metadata": {},
     "output_type": "display_data",
     "jetTransient": {
      "display_id": null
     }
    },
    {
     "data": {
      "text/plain": [
       "\u001B[1m Trainable params: \u001B[0m\u001B[38;5;34m1,313,025\u001B[0m (5.01 MB)\n"
      ],
      "text/html": [
       "<pre style=\"white-space:pre;overflow-x:auto;line-height:normal;font-family:Menlo,'DejaVu Sans Mono',consolas,'Courier New',monospace\"><span style=\"font-weight: bold\"> Trainable params: </span><span style=\"color: #00af00; text-decoration-color: #00af00\">1,313,025</span> (5.01 MB)\n",
       "</pre>\n"
      ]
     },
     "metadata": {},
     "output_type": "display_data",
     "jetTransient": {
      "display_id": null
     }
    },
    {
     "data": {
      "text/plain": [
       "\u001B[1m Non-trainable params: \u001B[0m\u001B[38;5;34m0\u001B[0m (0.00 B)\n"
      ],
      "text/html": [
       "<pre style=\"white-space:pre;overflow-x:auto;line-height:normal;font-family:Menlo,'DejaVu Sans Mono',consolas,'Courier New',monospace\"><span style=\"font-weight: bold\"> Non-trainable params: </span><span style=\"color: #00af00; text-decoration-color: #00af00\">0</span> (0.00 B)\n",
       "</pre>\n"
      ]
     },
     "metadata": {},
     "output_type": "display_data",
     "jetTransient": {
      "display_id": null
     }
    },
    {
     "data": {
      "text/plain": [
       "\u001B[1m Optimizer params: \u001B[0m\u001B[38;5;34m2\u001B[0m (12.00 B)\n"
      ],
      "text/html": [
       "<pre style=\"white-space:pre;overflow-x:auto;line-height:normal;font-family:Menlo,'DejaVu Sans Mono',consolas,'Courier New',monospace\"><span style=\"font-weight: bold\"> Optimizer params: </span><span style=\"color: #00af00; text-decoration-color: #00af00\">2</span> (12.00 B)\n",
       "</pre>\n"
      ]
     },
     "metadata": {},
     "output_type": "display_data",
     "jetTransient": {
      "display_id": null
     }
    }
   ],
   "execution_count": 4
  },
  {
   "metadata": {
    "ExecuteTime": {
     "end_time": "2025-10-28T09:41:06.225481Z",
     "start_time": "2025-10-28T09:41:06.204526Z"
    }
   },
   "cell_type": "code",
   "source": "model.get_weights()",
   "id": "2222b84f73b30059",
   "outputs": [
    {
     "data": {
      "text/plain": [
       "[array([[ 1.1979814e+00, -1.0917302e+00, -1.0752599e+00, ...,\n",
       "         -1.1207048e+00, -8.7903976e-01,  1.1131912e+00],\n",
       "        [-1.7881393e-02,  2.1337163e-02,  1.4045052e-02, ...,\n",
       "         -6.3797563e-02,  1.7886169e-02,  6.2833279e-02],\n",
       "        [ 5.6337267e-02,  7.5660840e-02,  4.9155341e-03, ...,\n",
       "          8.7921157e-02,  3.0143676e-02,  2.5065456e-02],\n",
       "        ...,\n",
       "        [ 5.6828698e-03,  7.0305355e-02,  7.9651430e-02, ...,\n",
       "          8.1596836e-02,  7.3343574e-04, -4.2697925e-02],\n",
       "        [ 4.4748127e-02,  3.4311831e-02, -4.7224026e-02, ...,\n",
       "          4.6406545e-02, -3.1124871e-02, -4.8372053e-02],\n",
       "        [-6.1417222e-02,  8.8295557e-02,  3.8828321e-02, ...,\n",
       "          4.2579036e-02, -4.5596091e-03, -7.4558623e-02]],\n",
       "       shape=(10000, 128), dtype=float32),\n",
       " array([[ 0.02874654,  0.00264721,  0.01790081, ..., -0.03847194,\n",
       "          0.03902823, -0.00572332],\n",
       "        [ 0.17166978,  0.05913096, -0.06592065, ..., -0.00072972,\n",
       "         -0.03873036, -0.04817428],\n",
       "        [ 0.07674308, -0.13012661,  0.01510175, ..., -0.07979455,\n",
       "          0.08850659,  0.14662294],\n",
       "        ...,\n",
       "        [-0.01793774, -0.0886616 ,  0.13205391, ...,  0.17201515,\n",
       "          0.14502485,  0.11210374],\n",
       "        [ 0.05977241,  0.16478342,  0.05589663, ...,  0.09670646,\n",
       "         -0.09509347,  0.03074255],\n",
       "        [-0.01132975,  0.09677134, -0.16748713, ..., -0.2111731 ,\n",
       "          0.0545648 ,  0.00390896]], shape=(128, 128), dtype=float32),\n",
       " array([[ 0.06855384,  0.01986361,  0.06934067, ..., -0.09340882,\n",
       "         -0.06581234,  0.02657351],\n",
       "        [ 0.07788889,  0.08847239, -0.09976444, ..., -0.16463286,\n",
       "          0.12524664, -0.03718055],\n",
       "        [-0.04499383,  0.02742124,  0.06835935, ..., -0.0149264 ,\n",
       "          0.07017456, -0.143298  ],\n",
       "        ...,\n",
       "        [ 0.00211263,  0.05082562, -0.01186284, ..., -0.2105897 ,\n",
       "         -0.04509474,  0.0322514 ],\n",
       "        [-0.09153937,  0.14362772,  0.00842262, ...,  0.06195423,\n",
       "         -0.01309936,  0.05349438],\n",
       "        [-0.27803984, -0.05609414,  0.01703379, ...,  0.06180835,\n",
       "          0.02209208, -0.09556486]], shape=(128, 128), dtype=float32),\n",
       " array([-6.6669449e-02,  4.3134071e-02, -7.0462597e-06, -8.2162090e-02,\n",
       "        -4.9097899e-02, -4.6229977e-02,  1.1719651e-02,  1.7019909e-02,\n",
       "        -9.1019318e-02,  3.2914307e-02,  2.2843132e-02, -6.6593595e-02,\n",
       "         1.0191218e-02,  3.3961628e-02,  2.1495566e-02, -2.3454865e-02,\n",
       "        -2.3840642e-02, -1.8528659e-02,  7.2607058e-03, -3.7518583e-02,\n",
       "        -8.3944378e-03, -2.4285147e-02, -7.3460825e-02, -4.7589764e-02,\n",
       "        -2.4584400e-02,  1.1623784e-02, -9.5877282e-02, -1.3204794e-02,\n",
       "        -3.4722224e-02, -1.0675673e-02, -5.5878699e-02, -1.9589739e-02,\n",
       "         4.1727260e-02, -4.0776908e-02,  1.4362045e-02,  2.0286398e-02,\n",
       "         3.4073804e-02, -7.6405361e-02,  2.0461584e-02,  2.7750121e-02,\n",
       "         6.0208607e-04,  1.4069231e-03, -6.4196676e-02,  1.4385544e-03,\n",
       "         5.5421762e-02,  1.1087363e-03,  8.5086701e-03, -2.0855431e-02,\n",
       "         2.1995122e-02,  2.4291232e-02, -2.5680993e-02,  2.8334945e-03,\n",
       "        -5.3476986e-02, -4.0464960e-03, -6.6200090e-03, -1.8187987e-02,\n",
       "         2.0587046e-03,  2.1976568e-02,  4.5430727e-02, -7.0912465e-02,\n",
       "        -6.9262497e-02,  4.0317435e-02, -5.5770561e-02,  2.7720839e-02,\n",
       "        -2.1103356e-02,  1.8138472e-02, -3.4554791e-02, -8.4022945e-03,\n",
       "         6.3309893e-03,  2.2476682e-02,  2.1272857e-02,  1.9394543e-02,\n",
       "        -7.0313318e-03, -6.3067526e-02,  5.4434026e-03,  3.1968649e-02,\n",
       "         1.6110841e-03,  4.2470787e-02, -1.5415940e-04, -3.2322977e-02,\n",
       "         1.6558029e-02, -2.5485866e-03, -5.9127565e-02,  2.2648057e-02,\n",
       "        -3.4922928e-02, -8.0797993e-02, -1.9885056e-02,  1.4171587e-02,\n",
       "        -1.1448538e-02,  1.3839982e-02,  5.0307983e-03,  2.0156160e-02,\n",
       "        -1.7995799e-02, -3.6693219e-02,  1.8987659e-02,  3.3563972e-02,\n",
       "         4.6287268e-02, -1.2798347e-04, -3.5432171e-02, -5.4282252e-02,\n",
       "         4.9141468e-03,  2.8255256e-02, -3.6689200e-02, -1.7923325e-02,\n",
       "         4.5489566e-03,  5.7608403e-02, -8.0011465e-02,  4.6407212e-02,\n",
       "         2.4434820e-02,  3.4892668e-03,  4.6427514e-02, -7.7475943e-02,\n",
       "         4.7164977e-02, -6.0599715e-02, -2.9695392e-04, -4.2048272e-02,\n",
       "        -4.2373713e-02, -7.2495043e-02,  6.8109915e-02,  5.0348353e-02,\n",
       "         3.3361387e-02, -2.2335641e-02,  1.1498226e-02, -2.3781030e-02,\n",
       "         2.7797149e-02, -2.0586973e-02, -2.0680937e-03, -1.9503936e-02],\n",
       "       dtype=float32),\n",
       " array([[-0.10502438],\n",
       "        [-0.02873859],\n",
       "        [-0.01334191],\n",
       "        [ 0.14002024],\n",
       "        [ 0.02295202],\n",
       "        [-0.14683549],\n",
       "        [-0.1486331 ],\n",
       "        [ 0.0660079 ],\n",
       "        [-0.1173014 ],\n",
       "        [ 0.1156222 ],\n",
       "        [-0.06535731],\n",
       "        [-0.22594212],\n",
       "        [ 0.06414424],\n",
       "        [-0.23716818],\n",
       "        [-0.10415659],\n",
       "        [ 0.24816479],\n",
       "        [ 0.19813402],\n",
       "        [ 0.07775527],\n",
       "        [ 0.17758325],\n",
       "        [ 0.0514136 ],\n",
       "        [ 0.00976831],\n",
       "        [-0.31534255],\n",
       "        [-0.1561869 ],\n",
       "        [-0.20328383],\n",
       "        [ 0.07929296],\n",
       "        [-0.21935113],\n",
       "        [-0.06468148],\n",
       "        [ 0.02486869],\n",
       "        [-0.2135991 ],\n",
       "        [ 0.00886677],\n",
       "        [-0.10062309],\n",
       "        [ 0.12810075],\n",
       "        [-0.41859853],\n",
       "        [-0.15508872],\n",
       "        [ 0.04338004],\n",
       "        [-0.3306288 ],\n",
       "        [ 0.06884192],\n",
       "        [-0.15404014],\n",
       "        [-0.0294158 ],\n",
       "        [-0.19164766],\n",
       "        [-0.25695863],\n",
       "        [ 0.06965176],\n",
       "        [ 0.00665506],\n",
       "        [-0.13163039],\n",
       "        [-0.05797076],\n",
       "        [-0.18482986],\n",
       "        [ 0.04708968],\n",
       "        [ 0.358624  ],\n",
       "        [ 0.09774365],\n",
       "        [-0.38128677],\n",
       "        [ 0.05809337],\n",
       "        [ 0.00986375],\n",
       "        [-0.18538529],\n",
       "        [ 0.02824178],\n",
       "        [-0.11965263],\n",
       "        [ 0.21029952],\n",
       "        [-0.00897205],\n",
       "        [ 0.02857651],\n",
       "        [ 0.08226302],\n",
       "        [-0.08559932],\n",
       "        [-0.05412095],\n",
       "        [ 0.09906499],\n",
       "        [-0.17777744],\n",
       "        [ 0.13431817],\n",
       "        [ 0.03768069],\n",
       "        [-0.02825612],\n",
       "        [-0.15148264],\n",
       "        [ 0.13815366],\n",
       "        [-0.17242257],\n",
       "        [-0.20116805],\n",
       "        [-0.10231583],\n",
       "        [-0.11658581],\n",
       "        [-0.10789289],\n",
       "        [-0.08093515],\n",
       "        [-0.07038073],\n",
       "        [ 0.11859859],\n",
       "        [-0.02437695],\n",
       "        [ 0.19985287],\n",
       "        [-0.19784226],\n",
       "        [ 0.15888262],\n",
       "        [ 0.25202447],\n",
       "        [ 0.12902032],\n",
       "        [-0.05775447],\n",
       "        [ 0.41548428],\n",
       "        [ 0.08357607],\n",
       "        [ 0.18135363],\n",
       "        [ 0.1049871 ],\n",
       "        [-0.02178767],\n",
       "        [ 0.6768044 ],\n",
       "        [-0.08201506],\n",
       "        [-0.26640743],\n",
       "        [-0.21140864],\n",
       "        [ 0.24256814],\n",
       "        [ 0.12096055],\n",
       "        [-0.13654889],\n",
       "        [-0.18526745],\n",
       "        [-0.16239129],\n",
       "        [ 0.11691198],\n",
       "        [-0.07414207],\n",
       "        [-0.186449  ],\n",
       "        [-0.12971781],\n",
       "        [-0.22552261],\n",
       "        [ 0.04188716],\n",
       "        [-0.02185699],\n",
       "        [ 0.08247061],\n",
       "        [-0.15448558],\n",
       "        [-0.38489637],\n",
       "        [ 0.14307362],\n",
       "        [-0.22300161],\n",
       "        [-0.16282427],\n",
       "        [-0.23126227],\n",
       "        [-0.13776797],\n",
       "        [ 0.00263747],\n",
       "        [-0.12869632],\n",
       "        [ 0.2145847 ],\n",
       "        [ 0.1425381 ],\n",
       "        [ 0.14086835],\n",
       "        [-0.02566595],\n",
       "        [ 0.0920598 ],\n",
       "        [ 0.23814407],\n",
       "        [ 0.53459364],\n",
       "        [-0.14633244],\n",
       "        [ 0.2097543 ],\n",
       "        [-0.06832966],\n",
       "        [ 0.00602728],\n",
       "        [ 0.1506508 ],\n",
       "        [-0.03685176],\n",
       "        [ 0.08870566]], dtype=float32),\n",
       " array([-0.6385159], dtype=float32)]"
      ]
     },
     "execution_count": 5,
     "metadata": {},
     "output_type": "execute_result"
    }
   ],
   "execution_count": 5
  },
  {
   "metadata": {
    "ExecuteTime": {
     "end_time": "2025-10-28T09:44:11.347411Z",
     "start_time": "2025-10-28T09:44:11.338269Z"
    }
   },
   "cell_type": "code",
   "source": [
    "# Step 2 : Helper function\n",
    "# function to decode reviews\n",
    "\n",
    "def decode_review(decoded_review):\n",
    "    return ' '.join([reverse_word_index.get(i - 3, '?') for i in decoded_review])\n",
    "\n",
    "# function to preprocess user input\n",
    "\n",
    "def preprocess_review(text):\n",
    "    words = text.lower().split()\n",
    "    encoded_review = [word_index.get(word, 2) + 3 for word in words]\n",
    "    padded_review = sequence.pad_sequences([encoded_review], maxlen=500)\n",
    "    return padded_review"
   ],
   "id": "67df40058e9ee019",
   "outputs": [],
   "execution_count": 6
  },
  {
   "metadata": {
    "ExecuteTime": {
     "end_time": "2025-10-28T09:46:35.040436Z",
     "start_time": "2025-10-28T09:46:35.032783Z"
    }
   },
   "cell_type": "code",
   "source": [
    "#Step: 3 prediction function\n",
    "\n",
    "def predict_sentiment(review):\n",
    "    preprocessed_input = preprocess_review(review)\n",
    "    prediction = model.predict(preprocessed_input)\n",
    "    sentiment = 'Positive' if prediction[0][0] >= 0.5 else 'Negative'\n",
    "    return sentiment, prediction[0][0]"
   ],
   "id": "24136bab90705409",
   "outputs": [],
   "execution_count": 7
  },
  {
   "metadata": {
    "ExecuteTime": {
     "end_time": "2025-10-28T09:52:57.282227Z",
     "start_time": "2025-10-28T09:52:57.033532Z"
    }
   },
   "cell_type": "code",
   "source": [
    "# Step 4 : User Input and Prediction\n",
    "# Example review for prediction\n",
    "\n",
    "example_review = \"The movie was fantastic! The acting was great and the plot was thrilling.\"\n",
    "\n",
    "sentiment, score = predict_sentiment(example_review)\n",
    "\n",
    "print(f'Review: {example_review}')\n",
    "print(f'Sentiment: {sentiment}')\n",
    "print(f'Prediction Score: {score}')\n",
    "\n"
   ],
   "id": "f4a912eccf9f076a",
   "outputs": [
    {
     "name": "stdout",
     "output_type": "stream",
     "text": [
      "\u001B[1m1/1\u001B[0m \u001B[32m━━━━━━━━━━━━━━━━━━━━\u001B[0m\u001B[37m\u001B[0m \u001B[1m0s\u001B[0m 167ms/step\n",
      "Review: The movie was fantastic! The acting was great and the plot was thrilling.\n",
      "Sentiment: Positive\n",
      "Prediction Score: 0.9444063305854797\n"
     ]
    }
   ],
   "execution_count": 8
  },
  {
   "metadata": {},
   "cell_type": "code",
   "outputs": [],
   "execution_count": null,
   "source": "",
   "id": "fcd2b8442f733f2e"
  }
 ],
 "metadata": {
  "kernelspec": {
   "display_name": "Python 3",
   "language": "python",
   "name": "python3"
  },
  "language_info": {
   "codemirror_mode": {
    "name": "ipython",
    "version": 2
   },
   "file_extension": ".py",
   "mimetype": "text/x-python",
   "name": "python",
   "nbconvert_exporter": "python",
   "pygments_lexer": "ipython2",
   "version": "2.7.6"
  }
 },
 "nbformat": 4,
 "nbformat_minor": 5
}
