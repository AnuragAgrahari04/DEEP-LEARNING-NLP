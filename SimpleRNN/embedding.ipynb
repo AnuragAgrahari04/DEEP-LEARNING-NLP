{
 "cells": [
  {
   "cell_type": "code",
   "id": "initial_id",
   "metadata": {
    "collapsed": true,
    "ExecuteTime": {
     "end_time": "2025-10-28T07:57:17.430362Z",
     "start_time": "2025-10-28T07:56:44.280343Z"
    }
   },
   "source": "from tensorflow.keras.preprocessing.text import one_hot",
   "outputs": [],
   "execution_count": 2
  },
  {
   "metadata": {
    "ExecuteTime": {
     "end_time": "2025-10-28T07:57:17.447444Z",
     "start_time": "2025-10-28T07:57:17.436252Z"
    }
   },
   "cell_type": "code",
   "source": [
    "# sentence\n",
    "\n",
    "sent = [\n",
    "    'the glass of milk',\n",
    "    'the glass of juice',\n",
    "    'the cup of tea',\n",
    "    'I am a good boy',\n",
    "    'I am a good developer',\n",
    "    'understand the meaning of words',\n",
    "    'your videos are good'\n",
    "]"
   ],
   "id": "c25bae6b9aff1d4d",
   "outputs": [],
   "execution_count": 3
  },
  {
   "metadata": {
    "ExecuteTime": {
     "end_time": "2025-10-28T07:57:17.466829Z",
     "start_time": "2025-10-28T07:57:17.455142Z"
    }
   },
   "cell_type": "code",
   "source": "sent",
   "id": "f6380343bb284867",
   "outputs": [
    {
     "data": {
      "text/plain": [
       "['the glass of milk',\n",
       " 'the glass of juice',\n",
       " 'the cup of tea',\n",
       " 'I am a good boy',\n",
       " 'I am a good developer',\n",
       " 'understand the meaning of words',\n",
       " 'your videos are good']"
      ]
     },
     "execution_count": 4,
     "metadata": {},
     "output_type": "execute_result"
    }
   ],
   "execution_count": 4
  },
  {
   "metadata": {
    "ExecuteTime": {
     "end_time": "2025-10-28T07:57:17.555298Z",
     "start_time": "2025-10-28T07:57:17.548300Z"
    }
   },
   "cell_type": "code",
   "source": [
    "# Define the vocalbary size\n",
    "\n",
    "vocab_size = 10000\n"
   ],
   "id": "60b6d210708ce6fa",
   "outputs": [],
   "execution_count": 5
  },
  {
   "metadata": {
    "ExecuteTime": {
     "end_time": "2025-10-28T07:57:17.570866Z",
     "start_time": "2025-10-28T07:57:17.564069Z"
    }
   },
   "cell_type": "code",
   "source": [
    "# One hot repesentation\n",
    "\n",
    "onehot_repr = [one_hot(words, vocab_size) for words in sent]\n",
    "onehot_repr"
   ],
   "id": "a946f88da839a138",
   "outputs": [
    {
     "data": {
      "text/plain": [
       "[[3991, 4523, 50, 5567],\n",
       " [3991, 4523, 50, 2267],\n",
       " [3991, 7292, 50, 2274],\n",
       " [7483, 5840, 9477, 9812, 4034],\n",
       " [7483, 5840, 9477, 9812, 24],\n",
       " [2381, 3991, 1153, 50, 2488],\n",
       " [736, 5282, 7532, 9812]]"
      ]
     },
     "execution_count": 6,
     "metadata": {},
     "output_type": "execute_result"
    }
   ],
   "execution_count": 6
  },
  {
   "metadata": {
    "ExecuteTime": {
     "end_time": "2025-10-28T07:57:17.589131Z",
     "start_time": "2025-10-28T07:57:17.583588Z"
    }
   },
   "cell_type": "code",
   "source": "",
   "id": "7c90f32611bcbd52",
   "outputs": [],
   "execution_count": null
  },
  {
   "metadata": {
    "ExecuteTime": {
     "end_time": "2025-10-28T07:57:17.624776Z",
     "start_time": "2025-10-28T07:57:17.612022Z"
    }
   },
   "cell_type": "code",
   "source": "",
   "id": "8b3de3ebaa665243",
   "outputs": [],
   "execution_count": null
  }
 ],
 "metadata": {
  "kernelspec": {
   "display_name": "Python 3",
   "language": "python",
   "name": "python3"
  },
  "language_info": {
   "codemirror_mode": {
    "name": "ipython",
    "version": 2
   },
   "file_extension": ".py",
   "mimetype": "text/x-python",
   "name": "python",
   "nbconvert_exporter": "python",
   "pygments_lexer": "ipython2",
   "version": "2.7.6"
  }
 },
 "nbformat": 4,
 "nbformat_minor": 5
}
